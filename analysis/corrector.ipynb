{
 "cells": [
  {
   "cell_type": "code",
   "execution_count": 9,
   "metadata": {},
   "outputs": [],
   "source": [
    "import os\n",
    "import json\n",
    "\n",
    "LAYERS = [\n",
    "    \"vgg.features.3\",\n",
    "    \"vgg.features.6\",\n",
    "    \"vgg.features.8\",\n",
    "    \"vgg.features.11\",\n",
    "    \"vgg.features.13\"\n",
    "]\n"
   ]
  },
  {
   "cell_type": "code",
   "execution_count": 10,
   "metadata": {},
   "outputs": [],
   "source": [
    "def correct_adjacency_matrix(matrix):\n",
    "    for i in range(len(matrix)):\n",
    "        for j in range(i + 1, len(matrix[i])):\n",
    "            matrix[j][i] = matrix[i][j]\n",
    "    return matrix\n",
    "\n",
    "def update_file(file_path):\n",
    "    with open(file_path, 'r') as f:\n",
    "        activations_dict = json.load(f)\n",
    "\n",
    "    for layer in LAYERS:\n",
    "        corrected_matrix = correct_adjacency_matrix(activations_dict[layer])\n",
    "        activations_dict[layer] = corrected_matrix\n",
    "\n",
    "    with open(file_path, 'w') as f:\n",
    "        json.dump(activations_dict, f)\n",
    "\n",
    "def update_all_files_in_directory(dir_path):\n",
    "    for root, dirs, files in os.walk(dir_path):\n",
    "        for file in files:\n",
    "            if file.endswith(\".json\"):\n",
    "                file_path = os.path.join(root, file)\n",
    "                update_file(file_path)"
   ]
  },
  {
   "cell_type": "code",
   "execution_count": 11,
   "metadata": {},
   "outputs": [],
   "source": [
    "# Update this to the correct directory path\n",
    "dir_path = \"../train_pickles/\"\n",
    "update_all_files_in_directory(dir_path)"
   ]
  },
  {
   "cell_type": "code",
   "execution_count": null,
   "metadata": {},
   "outputs": [],
   "source": []
  }
 ],
 "metadata": {
  "kernelspec": {
   "display_name": "map-transform",
   "language": "python",
   "name": "python3"
  },
  "language_info": {
   "codemirror_mode": {
    "name": "ipython",
    "version": 3
   },
   "file_extension": ".py",
   "mimetype": "text/x-python",
   "name": "python",
   "nbconvert_exporter": "python",
   "pygments_lexer": "ipython3",
   "version": "3.9.15"
  },
  "orig_nbformat": 4
 },
 "nbformat": 4,
 "nbformat_minor": 2
}
